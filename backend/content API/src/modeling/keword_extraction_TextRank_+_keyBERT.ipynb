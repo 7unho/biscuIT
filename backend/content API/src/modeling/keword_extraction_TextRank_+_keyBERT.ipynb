{
  "cells": [
    {
      "cell_type": "markdown",
      "metadata": {
        "id": "HetokZ84DT0e"
      },
      "source": [
        "## "
      ]
    },
    {
      "cell_type": "code",
      "execution_count": 3,
      "metadata": {
        "id": "tonmKxNBC6s7"
      },
      "outputs": [
        {
          "ename": "ModuleNotFoundError",
          "evalue": "No module named 'matplotlib'",
          "output_type": "error",
          "traceback": [
            "\u001b[1;31m---------------------------------------------------------------------------\u001b[0m",
            "\u001b[1;31mModuleNotFoundError\u001b[0m                       Traceback (most recent call last)",
            "Cell \u001b[1;32mIn[3], line 2\u001b[0m\n\u001b[0;32m      1\u001b[0m \u001b[39mimport\u001b[39;00m \u001b[39mos\u001b[39;00m\n\u001b[1;32m----> 2\u001b[0m get_ipython()\u001b[39m.\u001b[39;49mrun_line_magic(\u001b[39m'\u001b[39;49m\u001b[39mmatplotlib\u001b[39;49m\u001b[39m'\u001b[39;49m, \u001b[39m'\u001b[39;49m\u001b[39minline\u001b[39;49m\u001b[39m'\u001b[39;49m)\n\u001b[0;32m      3\u001b[0m \u001b[39mimport\u001b[39;00m \u001b[39msys\u001b[39;00m\n\u001b[0;32m      4\u001b[0m \u001b[39mfrom\u001b[39;00m \u001b[39mcollections\u001b[39;00m \u001b[39mimport\u001b[39;00m Counter\n",
            "File \u001b[1;32m~\\AppData\\Roaming\\Python\\Python310\\site-packages\\IPython\\core\\interactiveshell.py:2414\u001b[0m, in \u001b[0;36mInteractiveShell.run_line_magic\u001b[1;34m(self, magic_name, line, _stack_depth)\u001b[0m\n\u001b[0;32m   2412\u001b[0m     kwargs[\u001b[39m'\u001b[39m\u001b[39mlocal_ns\u001b[39m\u001b[39m'\u001b[39m] \u001b[39m=\u001b[39m \u001b[39mself\u001b[39m\u001b[39m.\u001b[39mget_local_scope(stack_depth)\n\u001b[0;32m   2413\u001b[0m \u001b[39mwith\u001b[39;00m \u001b[39mself\u001b[39m\u001b[39m.\u001b[39mbuiltin_trap:\n\u001b[1;32m-> 2414\u001b[0m     result \u001b[39m=\u001b[39m fn(\u001b[39m*\u001b[39margs, \u001b[39m*\u001b[39m\u001b[39m*\u001b[39mkwargs)\n\u001b[0;32m   2416\u001b[0m \u001b[39m# The code below prevents the output from being displayed\u001b[39;00m\n\u001b[0;32m   2417\u001b[0m \u001b[39m# when using magics with decodator @output_can_be_silenced\u001b[39;00m\n\u001b[0;32m   2418\u001b[0m \u001b[39m# when the last Python token in the expression is a ';'.\u001b[39;00m\n\u001b[0;32m   2419\u001b[0m \u001b[39mif\u001b[39;00m \u001b[39mgetattr\u001b[39m(fn, magic\u001b[39m.\u001b[39mMAGIC_OUTPUT_CAN_BE_SILENCED, \u001b[39mFalse\u001b[39;00m):\n",
            "File \u001b[1;32m~\\AppData\\Roaming\\Python\\Python310\\site-packages\\IPython\\core\\magics\\pylab.py:99\u001b[0m, in \u001b[0;36mPylabMagics.matplotlib\u001b[1;34m(self, line)\u001b[0m\n\u001b[0;32m     97\u001b[0m     \u001b[39mprint\u001b[39m(\u001b[39m\"\u001b[39m\u001b[39mAvailable matplotlib backends: \u001b[39m\u001b[39m%s\u001b[39;00m\u001b[39m\"\u001b[39m \u001b[39m%\u001b[39m backends_list)\n\u001b[0;32m     98\u001b[0m \u001b[39melse\u001b[39;00m:\n\u001b[1;32m---> 99\u001b[0m     gui, backend \u001b[39m=\u001b[39m \u001b[39mself\u001b[39;49m\u001b[39m.\u001b[39;49mshell\u001b[39m.\u001b[39;49menable_matplotlib(args\u001b[39m.\u001b[39;49mgui\u001b[39m.\u001b[39;49mlower() \u001b[39mif\u001b[39;49;00m \u001b[39misinstance\u001b[39;49m(args\u001b[39m.\u001b[39;49mgui, \u001b[39mstr\u001b[39;49m) \u001b[39melse\u001b[39;49;00m args\u001b[39m.\u001b[39;49mgui)\n\u001b[0;32m    100\u001b[0m     \u001b[39mself\u001b[39m\u001b[39m.\u001b[39m_show_matplotlib_backend(args\u001b[39m.\u001b[39mgui, backend)\n",
            "File \u001b[1;32m~\\AppData\\Roaming\\Python\\Python310\\site-packages\\IPython\\core\\interactiveshell.py:3585\u001b[0m, in \u001b[0;36mInteractiveShell.enable_matplotlib\u001b[1;34m(self, gui)\u001b[0m\n\u001b[0;32m   3564\u001b[0m \u001b[39mdef\u001b[39;00m \u001b[39menable_matplotlib\u001b[39m(\u001b[39mself\u001b[39m, gui\u001b[39m=\u001b[39m\u001b[39mNone\u001b[39;00m):\n\u001b[0;32m   3565\u001b[0m \u001b[39m    \u001b[39m\u001b[39m\"\"\"Enable interactive matplotlib and inline figure support.\u001b[39;00m\n\u001b[0;32m   3566\u001b[0m \n\u001b[0;32m   3567\u001b[0m \u001b[39m    This takes the following steps:\u001b[39;00m\n\u001b[1;32m   (...)\u001b[0m\n\u001b[0;32m   3583\u001b[0m \u001b[39m        display figures inline.\u001b[39;00m\n\u001b[0;32m   3584\u001b[0m \u001b[39m    \"\"\"\u001b[39;00m\n\u001b[1;32m-> 3585\u001b[0m     \u001b[39mfrom\u001b[39;00m \u001b[39mmatplotlib_inline\u001b[39;00m\u001b[39m.\u001b[39;00m\u001b[39mbackend_inline\u001b[39;00m \u001b[39mimport\u001b[39;00m configure_inline_support\n\u001b[0;32m   3587\u001b[0m     \u001b[39mfrom\u001b[39;00m \u001b[39mIPython\u001b[39;00m\u001b[39m.\u001b[39;00m\u001b[39mcore\u001b[39;00m \u001b[39mimport\u001b[39;00m pylabtools \u001b[39mas\u001b[39;00m pt\n\u001b[0;32m   3588\u001b[0m     gui, backend \u001b[39m=\u001b[39m pt\u001b[39m.\u001b[39mfind_gui_and_backend(gui, \u001b[39mself\u001b[39m\u001b[39m.\u001b[39mpylab_gui_select)\n",
            "File \u001b[1;32m~\\AppData\\Roaming\\Python\\Python310\\site-packages\\matplotlib_inline\\__init__.py:1\u001b[0m\n\u001b[1;32m----> 1\u001b[0m \u001b[39mfrom\u001b[39;00m \u001b[39m.\u001b[39;00m \u001b[39mimport\u001b[39;00m backend_inline, config  \u001b[39m# noqa\u001b[39;00m\n\u001b[0;32m      2\u001b[0m __version__ \u001b[39m=\u001b[39m \u001b[39m\"\u001b[39m\u001b[39m0.1.6\u001b[39m\u001b[39m\"\u001b[39m  \u001b[39m# noqa\u001b[39;00m\n",
            "File \u001b[1;32m~\\AppData\\Roaming\\Python\\Python310\\site-packages\\matplotlib_inline\\backend_inline.py:6\u001b[0m\n\u001b[0;32m      1\u001b[0m \u001b[39m\"\"\"A matplotlib backend for publishing figures via display_data\"\"\"\u001b[39;00m\n\u001b[0;32m      3\u001b[0m \u001b[39m# Copyright (c) IPython Development Team.\u001b[39;00m\n\u001b[0;32m      4\u001b[0m \u001b[39m# Distributed under the terms of the BSD 3-Clause License.\u001b[39;00m\n\u001b[1;32m----> 6\u001b[0m \u001b[39mimport\u001b[39;00m \u001b[39mmatplotlib\u001b[39;00m\n\u001b[0;32m      7\u001b[0m \u001b[39mfrom\u001b[39;00m \u001b[39mmatplotlib\u001b[39;00m \u001b[39mimport\u001b[39;00m colors\n\u001b[0;32m      8\u001b[0m \u001b[39mfrom\u001b[39;00m \u001b[39mmatplotlib\u001b[39;00m\u001b[39m.\u001b[39;00m\u001b[39mbackends\u001b[39;00m \u001b[39mimport\u001b[39;00m backend_agg\n",
            "\u001b[1;31mModuleNotFoundError\u001b[0m: No module named 'matplotlib'"
          ]
        }
      ],
      "source": [
        "import os\n",
        "%matplotlib inline\n",
        "import sys\n",
        "from collections import Counter\n",
        "from typing import List"
      ]
    },
    {
      "cell_type": "code",
      "execution_count": null,
      "metadata": {
        "id": "2ixX19lmm8zs"
      },
      "outputs": [],
      "source": [
        "# TextRank\n",
        "from gensim.summarization.summarizer import summarize"
      ]
    },
    {
      "cell_type": "code",
      "execution_count": null,
      "metadata": {
        "id": "hkce62xgzA5c"
      },
      "outputs": [],
      "source": [
        "# kiwi: Tokenizer\n",
        "from kiwipiepy import Kiwi\n",
        "# keyBert\n",
        "from keybert import KeyBERT\n",
        "from transformers import BertModel"
      ]
    },
    {
      "cell_type": "code",
      "execution_count": null,
      "metadata": {
        "id": "tT4-deliwcQM"
      },
      "outputs": [],
      "source": [
        "from tqdm.notebook import tqdm"
      ]
    },
    {
      "cell_type": "code",
      "execution_count": null,
      "metadata": {},
      "outputs": [],
      "source": [
        "module_path = '/'.join(os.getcwd().split(\"\\\\\")[:-1])\n",
        "sys.path.append(module_path)\n",
        "sys.path.append(module_path + '/crawling')"
      ]
    },
    {
      "cell_type": "markdown",
      "metadata": {
        "id": "U0LF5cA5zCmb"
      },
      "source": [
        "## data 전처리"
      ]
    },
    {
      "cell_type": "markdown",
      "metadata": {
        "id": "ogEaZdn7KKkM"
      },
      "source": [
        "### Tokenize"
      ]
    },
    {
      "cell_type": "code",
      "execution_count": null,
      "metadata": {
        "id": "mWo2YUCyKScN"
      },
      "outputs": [],
      "source": [
        "kiwi = Kiwi()"
      ]
    },
    {
      "cell_type": "code",
      "execution_count": null,
      "metadata": {
        "id": "1ZPxj9iuKSfX"
      },
      "outputs": [],
      "source": [
        "# 명사 추출 함수\n",
        "def noun_extractor(text):\n",
        "    results = []\n",
        "    result = kiwi.analyze(text)\n",
        "    # print(result)\n",
        "    for token, pos, _, _ in result[0][0]:\n",
        "        if len(token) != 1 and pos.startswith('N') or pos.startswith('SL'):\n",
        "            results.append(token)\n",
        "    return results"
      ]
    },
    {
      "attachments": {},
      "cell_type": "markdown",
      "metadata": {},
      "source": [
        "### 불용어 제거"
      ]
    },
    {
      "attachments": {},
      "cell_type": "markdown",
      "metadata": {},
      "source": [
        "#### stopword: list"
      ]
    },
    {
      "cell_type": "code",
      "execution_count": null,
      "metadata": {},
      "outputs": [],
      "source": [
        "stopwords = [\n",
        "    # channel\n",
        "    \"11번가\",\n",
        "    \"11st-tech\",\n",
        "    \"29CM\",\n",
        "    \"29cm\",\n",
        "    \"AWS\",\n",
        "    \"amazon\",\n",
        "    \"class101\",\n",
        "    \"GS리테일\",\n",
        "    \"gsretail\",\n",
        "    \"NHN\",\n",
        "    \"nhncloud\",\n",
        "    \"ToastUI\",\n",
        "    \"네이버D2\",\n",
        "    \"d2\",\n",
        "    \"naver\",\n",
        "    \"네이버클라우드\",\n",
        "    \"naver-cloud-platform\",\n",
        "    \"네이버플레이스\",\n",
        "    \"naver-place-dev\",\n",
        "    \"넷마블\",\n",
        "    \"netmarble\",\n",
        "    \"다나와\",\n",
        "    \"danawalab\",\n",
        "    \"당근마켓\",\n",
        "    \"daangn\",\n",
        "    \"데보션\",\n",
        "    \"devocean\",\n",
        "    \"sk\",\n",
        "    \"데브시스터즈\",\n",
        "    \"devsisters\",\n",
        "    \"드라마앤컴퍼니\",\n",
        "    \"dramancompany\",\n",
        "    \"라인\",\n",
        "    \"linecorp\",\n",
        "    \"레모네이드\",\n",
        "    \"lemonade-engineering\",\n",
        "    \"롯데on\",\n",
        "    \"lotteon\",\n",
        "    \"루닛\",\n",
        "    \"lunit\",\n",
        "    \"마이리얼트립\",\n",
        "    \"myrealtrip-product\",\n",
        "    \"메가존클라우드\",\n",
        "    \"ctc-mzc\",\n",
        "    \"무신사\",\n",
        "    \"musinsa\",\n",
        "    \"버즈빌\",\n",
        "    \"buzzvil\",\n",
        "    \"브랜디\",\n",
        "    \"brandi\",\n",
        "    \"사람인\",\n",
        "    \"saramin\",\n",
        "    \"숨고\",\n",
        "    \"soomgo\",\n",
        "    \"스마일게이트AI\",\n",
        "    \"smilegate\",\n",
        "    \"스케터랩\",\n",
        "    \"scatterlab\",\n",
        "    \"스타일쉐어\",\n",
        "    \"styleshare\",\n",
        "    \"쏘카\",\n",
        "    \"socarcorp\",\n",
        "    \"아이디어스\",\n",
        "    \"idus\",\n",
        "    \"야놀자\",\n",
        "    \"yanolja\",\n",
        "    \"야놀자클라우드\",\n",
        "    \"yanoljacloud-tech\",\n",
        "    \"엔라이즈\",\n",
        "    \"nrise\",\n",
        "    \"여기어때\",\n",
        "    \"gccompany\",\n",
        "    \"오일나우\",\n",
        "    \"왓챠\",\n",
        "    \"watcha\",\n",
        "    \"요기요\",\n",
        "    \"yogiyo\",\n",
        "    \"우아한형제들\",\n",
        "    \"woowahan\",\n",
        "    \"원티드\",\n",
        "    \"wantedjobs\",\n",
        "    \"지마켓\",\n",
        "    \"gmarket\",\n",
        "    \"직방\",\n",
        "    \"zigbang\",\n",
        "    \"카카오\",\n",
        "    \"kakao\",\n",
        "    \"카카오엔터프라이즈\",\n",
        "    \"kakaoenterprise\",\n",
        "    \"카카오페이\",\n",
        "    \"kakaopay\",\n",
        "    \"컬리\",\n",
        "    \"kurly\",\n",
        "    \"코인원\",\n",
        "    \"coinone\",\n",
        "    \"쿠팡\",\n",
        "    \"coupang-engineering\",\n",
        "    \"크몽\",\n",
        "    \"kmong\",\n",
        "    \"클라우드메이트\",\n",
        "    \"cloudmt\",\n",
        "    \"테이블링\",\n",
        "    \"tabling\",\n",
        "    \"토스\",\n",
        "    \"toss\",\n",
        "    \"포스타입\",\n",
        "    \"postype\",\n",
        "    \"하이퍼커넥트\",\n",
        "    \"hyperconnect\",\n",
        "    \"헤이딜러\",\n",
        "    \"prnd\",\n",
        "    \"화해\",\n",
        "    \"hwahae\",\n",
        "]\n",
        "\n",
        "# most_common(200) 불용어 추가\n",
        "stopwords.extend([\n",
        "    '사용', '개발자', '사용자', '기반', '프로젝트', '이용', '코드', '기술', '서비스', '활용', '적용', '개발', '소개', '실행', '안녕하세요', 'line', '진행', '관리', '과정', 'developer', '비즈니스', '프로그래밍', '회사', '소프트웨어', '유저',   '프로그램', 'user',  'service',  '포스팅', 'tech',  '다운로드', '저장소', 'google', '동료',  'project', '방법',  'japanese', 'code', '효율', '도구', '공유', '코딩', '관련', '제품', '이미지', '화면', '얘기', '접근', '광고', '리멤버', '대화', '조직', '링크', '컴퍼니', '오픈', '엔지니어', '문서', 'post', '태그', 'hwang', '예산', '가시', '바탕', 'part', '자료', '버즈빌', '스타트업',\n",
        "])"
      ]
    },
    {
      "attachments": {},
      "cell_type": "markdown",
      "metadata": {},
      "source": [
        "#### stopword: from DB"
      ]
    },
    {
      "cell_type": "code",
      "execution_count": null,
      "metadata": {},
      "outputs": [],
      "source": [
        "# from crawling import config\n",
        "# #  from src.crawling.config import connect, close\n",
        "\n",
        "# conn = config.connect()\n",
        "# curs = conn.cursor()\n",
        "\n",
        "# channel_sql = \"\"\"select name from channel group by name\"\"\"\n",
        "# curs.execute(channel_sql)\n",
        "# channel_info = curs.fetchall()\n",
        "\n",
        "# channels = []\n",
        "# for channel in channel_info:\n",
        "#     channels.extend(channel)\n",
        "# print(channels)\n",
        "\n",
        "# config.close()\n",
        "\n",
        "# stopwords.extend(channels)"
      ]
    },
    {
      "cell_type": "markdown",
      "metadata": {
        "id": "pLHwJBTIyx9_"
      },
      "source": [
        "## keyword 추출"
      ]
    },
    {
      "cell_type": "code",
      "execution_count": null,
      "metadata": {
        "id": "t-uzs8GQyslO"
      },
      "outputs": [],
      "source": [
        "def keyword_extractor(bert:str, documents:List[str]): # -> (List[Tuple[str, float]] | List[List[Tuple[str, float]]]):\n",
        "  model = BertModel.from_pretrained(bert)\n",
        "  model = model.cuda()\n",
        "  kw_model = KeyBERT(model)\n",
        "  keywords = kw_model.extract_keywords(documents, keyphrase_ngram_range=(1, 1), stop_words=None, top_n=20)\n",
        "  return keywords\n",
        "# model_100langs = BertModel.from_pretrained('sentence-transformers/xlm-r-100langs-bert-base-nli-stsb-mean-tokens')\n",
        "# kw_model_100langs = KeyBERT(model_100langs)\n",
        "# keywords_100langs = kw_model_100langs.extract_keywords(text, keyphrase_ngram_range=(1, 1), stop_words=None, top_n=20)\n"
      ]
    },
    {
      "cell_type": "code",
      "execution_count": null,
      "metadata": {},
      "outputs": [
        {
          "name": "stdout",
          "output_type": "stream",
          "text": [
            "True\n"
          ]
        }
      ],
      "source": [
        "import torch\n",
        "print(torch.cuda.is_available())"
      ]
    },
    {
      "cell_type": "code",
      "execution_count": null,
      "metadata": {},
      "outputs": [
        {
          "name": "stdout",
          "output_type": "stream",
          "text": [
            "DEVICE cuda:0\n"
          ]
        }
      ],
      "source": [
        "# gpu 사용법\n",
        "# https://github.com/MaartenGr/KeyBERT/issues/108\n",
        "# model = SentenceTransformer(\n",
        "#     \"<hf_model_name>\",\n",
        "#     device=\"cuda:0\"\n",
        "# )\n",
        "model = BertModel.from_pretrained('skt/kobert-base-v1')\n",
        "model = model.cuda()\n",
        "print(\"DEVICE\", model.device)\n",
        "# hf_model = KeyBERT(model)\n",
        "\n",
        "# https://www.kaggle.com/code/accountstatus/shopee-competition-using-bert-model\n"
      ]
    },
    {
      "cell_type": "code",
      "execution_count": null,
      "metadata": {
        "id": "CXJC5qTf6j3n"
      },
      "outputs": [],
      "source": [
        "# print(os.getcwd())\n",
        "# base_path = \"/content/drive/MyDrive/쳇, 6pt: 비스킷(biskuit)/dataset/content/\"\n",
        "import csv\n",
        "import re\n",
        "\n",
        "base_path = '../../../data/content/'\n",
        "csv_path = '../../data/crawling_data_keyword.csv'\n",
        "\n",
        "f = open(csv_path, \"r\", encoding=\"utf-8\")\n",
        "\n",
        "csvReader = csv.reader(f)\n",
        "\n",
        "def extract_keyword(base_path:str):\n",
        "    documents = []\n",
        "    titles = []\n",
        "    susseed = 0\n",
        "    fileNotFoundError = 0\n",
        "    osError = 0\n",
        "    for row in tqdm(csvReader):\n",
        "        if len(row) == 0:\n",
        "            continue\n",
        "        title = row[1]\n",
        "        created_date = row[3]\n",
        "        channel = row[2]\n",
        "        # categories = row[4].split()\n",
        "        # \"Design\", \"Product\", \"Culture\", \"Conference\" 태그만 달려있는 글 분석 제외\n",
        "        # if len(categories) != 0 and len(set(categories) - set([\"Design\", \"Product\", \"Culture\", \"Conference\"])) == 0: continue\n",
        "        file_name = re.sub('[\\/:*?\"<>|],', \"\", channel + '_' + title)\n",
        "        content_path = base_path + created_date + '/' + file_name + '.txt'\n",
        "        try:\n",
        "            file = open(content_path, 'r', encoding='utf-8')\n",
        "        except FileNotFoundError:\n",
        "            fileNotFoundError += 1\n",
        "            continue\n",
        "        except OSError:\n",
        "            osError += 1\n",
        "            continue\n",
        "        text = file.read()\n",
        "        if len(text.split('\\n')) > 50:\n",
        "            summary = summarize(text)\n",
        "        else:\n",
        "            summary = text\n",
        "        # nouns = noun_extractor(text)\n",
        "        nouns = noun_extractor(summary)\n",
        "        print(nouns)\n",
        "        text = ' '.join(nouns)\n",
        "        documents.append(text)\n",
        "        titles.append(title)\n",
        "        susseed += 1\n",
        "    print(\"susseed:\", susseed)\n",
        "    print(\"fileNotFoundError:\", fileNotFoundError)\n",
        "    print(\"osError:\", osError)\n",
        "    return keyword_extractor('skt/kobert-base-v1', documents)"
      ]
    },
    {
      "cell_type": "code",
      "execution_count": null,
      "metadata": {},
      "outputs": [
        {
          "data": {
            "application/vnd.jupyter.widget-view+json": {
              "model_id": "3f0aab8787434b4088dd07d0f8fa2765",
              "version_major": 2,
              "version_minor": 0
            },
            "text/plain": [
              "0it [00:00, ?it/s]"
            ]
          },
          "metadata": {},
          "output_type": "display_data"
        },
        {
          "name": "stdout",
          "output_type": "stream",
          "text": [
            "susseed: 1636\n",
            "fileNotFoundError: 1599\n",
            "osError: 196\n"
          ]
        }
      ],
      "source": [
        "extracted_keywords = extract_keyword(base_path)"
      ]
    },
    {
      "cell_type": "code",
      "execution_count": null,
      "metadata": {},
      "outputs": [
        {
          "ename": "NameError",
          "evalue": "name 'extracted_keywords' is not defined",
          "output_type": "error",
          "traceback": [
            "\u001b[1;31m---------------------------------------------------------------------------\u001b[0m",
            "\u001b[1;31mNameError\u001b[0m                                 Traceback (most recent call last)",
            "Cell \u001b[1;32mIn[1], line 1\u001b[0m\n\u001b[1;32m----> 1\u001b[0m extracted_keywords\n",
            "\u001b[1;31mNameError\u001b[0m: name 'extracted_keywords' is not defined"
          ]
        }
      ],
      "source": [
        "extracted_keywords"
      ]
    },
    {
      "cell_type": "code",
      "execution_count": null,
      "metadata": {},
      "outputs": [
        {
          "name": "stdout",
          "output_type": "stream",
          "text": [
            "['사용', '개발자', '사용자', '기반', '데이터', '프로젝트', '이용', '코드', '기술', '서버', '서비스', '활용', '설정', '구현', '플랫폼', '적용', '개발', '배포', '소개', '모델', '정보', '처리', '구성', '학습', '실행', 'data', 'cloud', '안녕하세요', '기능', '저장', '라이브러리', '버전', '이전', 'server', '시스템', '운영', 'line', '진행', '관리', '과정', '모델링', '애플리케이션', 'db', 'developer', '분석', '인프라', '비즈니스', '모니터링', 'app', '프로그래밍', '모듈', '설치', '언어', '연결', '영상', '개선', 'model', '회사', 'android', '소프트웨어', '협업', '알고리즘', '유저', '데이터베이스', '테스트', 'github', 'platform', 'web', '파일', '프로그램', 'user', 'learning', '클라우드', 'service', '요청', '포스팅', 'tech', '클래스', '다운로드', '저장소', 'google', '동료', '검색', '업로드', '보안', '디자인', '사이트', '페이지', '구축', 'project', '방법', 'chatgpt', '메시지', '내용', '전송', 'japanese', 'code', '효율', '도구', 'system', '최신', '프로토콜', 'application', 'ai', '접속', '공유', '코딩', '관련', '제품', 'apache', '이미지', '화면', '얘기', '안드로이드', '접근', 'database', '광고', '네트워크', 'json', '리멤버', 'framework', '대화', '타입', '조건', '통신', 'repository', '조직', 'config', '설계', 'storage', '실시간', '링크', '컴퍼니', '성능', '클릭', '검증', 'aws', 'js', '도메인', 'access', '컴파일', '비교', 'kubernetes', 'cpu', '프로세스', '제어', '수준', '오픈', '엔지니어', '문서', '브라우저', '연구', '지원', 'post', '태그', '쿼리', 'hwang', '예산', '여정', '구글', '필요', '엔드', '가시', '바탕', 'part', '챗봇', 'mysql', '인터페이스', 'test', 'visual', 'trends', '자료', 'liam', '버즈빌', 'bale', 'do', 'network', '머신', '스타트업', '메모리', '작업', '업데이트', '출력', '지능', '역할', '모바일', 'targeting', 'uts', '도입기', '빌더', 'sql', '디자이너', 'amazon', 'video', 'client', '분류', '프로비저닝', 'python', '등록', '아키텍처']\n"
          ]
        },
        {
          "data": {
            "image/png": "[encoded data removed]",
            "text/plain": [
              "<Figure size 640x480 with 1 Axes>"
            ]
          },
          "metadata": {},
          "output_type": "display_data"
        }
      ],
      "source": [
        "from matplotlib import pyplot as plt\n",
        "\n",
        "\n",
        "all_keywords = []\n",
        "for keyword in extracted_keywords:\n",
        "    all_keywords.extend(map(lambda x: x[0], keyword))\n",
        "counter = Counter(all_keywords)\n",
        "print(list(map(lambda x:x[0], counter.most_common(200))))\n",
        "plt.title('Top 200 keywords')\n",
        "plt.bar(range(200), list(map(lambda x: x[1], counter.most_common(200))))\n",
        "plt.show()"
      ]
    },
    {
      "attachments": {},
      "cell_type": "markdown",
      "metadata": {},
      "source": [
        "#### legacy"
      ]
    },
    {
      "cell_type": "code",
      "execution_count": 4,
      "metadata": {
        "id": "64ezQHBbiJ9K"
      },
      "outputs": [],
      "source": [
        "# dfs로 탐색해서크롤링\n",
        "\n",
        "def extract_keyword2(base_path:str):\n",
        "  content_dir_list = os.scandir(base_path)\n",
        "  documents = []\n",
        "  for content_dir in content_dir_list:\n",
        "      if not content_dir.is_dir(): continue\n",
        "      content_list = os.scandir(content_dir)\n",
        "      for content in content_list:\n",
        "          if not content.is_file(): continue\n",
        "          file = open(content.path, \"r\")\n",
        "          if len(text.split('\\n')) > 50:\n",
        "            summary = summarize(text)\n",
        "          else:\n",
        "            summary = text\n",
        "          # nouns = noun_extractor(text)\n",
        "          nouns = noun_extractor(summary)\n",
        "          text = ' '.join(nouns)\n",
        "          documents.append(text)\n",
        "  # print(text)\n",
        "  keyword_extractor('skt/kobert-base-v1', documents)\n",
        "  # keyword_extractor('paraphrase-multilingual-MiniLM-L12-v2', documents)   # multilingual!\n",
        "  # keyword_extractor('paraphrase-multilingual-mpnet-base-v2', documents)   # 시간 더 오래걸리고 결과 더 조음!"
      ]
    }
  ],
  "metadata": {
    "accelerator": "TPU",
    "colab": {
      "provenance": []
    },
    "gpuClass": "standard",
    "kernelspec": {
      "display_name": "Python 3",
      "name": "python3"
    },
    "language_info": {
      "codemirror_mode": {
        "name": "ipython",
        "version": 3
      },
      "file_extension": ".py",
      "mimetype": "text/x-python",
      "name": "python",
      "nbconvert_exporter": "python",
      "pygments_lexer": "ipython3",
      "version": "3.10.5"
    }
  },
  "nbformat": 4,
  "nbformat_minor": 0
}
