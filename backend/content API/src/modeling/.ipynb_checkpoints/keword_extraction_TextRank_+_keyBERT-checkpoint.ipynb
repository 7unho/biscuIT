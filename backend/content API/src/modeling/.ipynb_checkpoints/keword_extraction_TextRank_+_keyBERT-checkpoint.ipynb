{
 "cells": [
  {
   "cell_type": "markdown",
   "metadata": {
    "id": "HetokZ84DT0e"
   },
   "source": [
    "## "
   ]
  },
  {
   "cell_type": "code",
   "execution_count": 7,
   "metadata": {
    "id": "tonmKxNBC6s7"
   },
   "outputs": [],
   "source": [
    "import os\n",
    "import pandas as pd\n",
    "import numpy as np\n",
    "%matplotlib inline\n",
    "import matplotlib.pyplot as plt\n",
    "import re\n",
    "import urllib.request\n",
    "from collections import Counter\n",
    "from typing import List"
   ]
  },
  {
   "cell_type": "code",
   "execution_count": 8,
   "metadata": {
    "id": "2ixX19lmm8zs"
   },
   "outputs": [],
   "source": [
    "# TextRank\n",
    "from gensim.summarization.summarizer import summarize"
   ]
  },
  {
   "cell_type": "code",
   "execution_count": 9,
   "metadata": {
    "id": "hkce62xgzA5c"
   },
   "outputs": [],
   "source": [
    "# kiwi: Tokenizer\n",
    "from kiwipiepy import Kiwi\n",
    "# keyBert\n",
    "from keybert import KeyBERT\n",
    "from transformers import BertModel"
   ]
  },
  {
   "cell_type": "code",
   "execution_count": 10,
   "metadata": {
    "id": "tT4-deliwcQM"
   },
   "outputs": [],
   "source": [
    "from tqdm.notebook import tqdm"
   ]
  },
  {
   "cell_type": "code",
   "execution_count": 11,
   "metadata": {},
   "outputs": [],
   "source": [
    "import sys\n",
    "sys.path.clear()\n",
    "sys.path.append('/'.join(os.getcwd().split(\"\\\\\")[:-1]))"
   ]
  },
  {
   "cell_type": "markdown",
   "metadata": {
    "id": "U0LF5cA5zCmb"
   },
   "source": [
    "## data 전처리"
   ]
  },
  {
   "cell_type": "markdown",
   "metadata": {
    "id": "ogEaZdn7KKkM"
   },
   "source": [
    "### Tokenize"
   ]
  },
  {
   "cell_type": "code",
   "execution_count": 1,
   "metadata": {
    "id": "mWo2YUCyKScN"
   },
   "outputs": [
    {
     "name": "stdout",
     "output_type": "stream",
     "text": [
      "Requirement already satisfied: kiwipiepy_model in c:\\users\\randall\\appdata\\roaming\\python\\python39\\site-packages (0.14.0)\n",
      "Note: you may need to restart the kernel to use updated packages.\n"
     ]
    },
    {
     "ename": "NameError",
     "evalue": "name 'Kiwi' is not defined",
     "output_type": "error",
     "traceback": [
      "\u001b[1;31m---------------------------------------------------------------------------\u001b[0m",
      "\u001b[1;31mNameError\u001b[0m                                 Traceback (most recent call last)",
      "Cell \u001b[1;32mIn[1], line 5\u001b[0m\n\u001b[0;32m      3\u001b[0m \u001b[38;5;66;03m# sys.executable\u001b[39;00m\n\u001b[0;32m      4\u001b[0m get_ipython()\u001b[38;5;241m.\u001b[39mrun_line_magic(\u001b[38;5;124m'\u001b[39m\u001b[38;5;124mpip\u001b[39m\u001b[38;5;124m'\u001b[39m, \u001b[38;5;124m'\u001b[39m\u001b[38;5;124minstall kiwipiepy_model\u001b[39m\u001b[38;5;124m'\u001b[39m)\n\u001b[1;32m----> 5\u001b[0m kiwi \u001b[38;5;241m=\u001b[39m \u001b[43mKiwi\u001b[49m()\n",
      "\u001b[1;31mNameError\u001b[0m: name 'Kiwi' is not defined"
     ]
    }
   ],
   "source": [
    "import sys\n",
    "\n",
    "# sys.executable\n",
    "# %pip install kiwipiepy_model\n",
    "kiwi = Kiwi()"
   ]
  },
  {
   "cell_type": "code",
   "execution_count": null,
   "metadata": {
    "id": "1ZPxj9iuKSfX"
   },
   "outputs": [
    {
     "ename": "",
     "evalue": "",
     "output_type": "error",
     "traceback": [
      "\u001b[1;31mThe kernel failed to start as the Python Environment 'biscuit-model' is no longer available. Consider selecting another kernel or refreshing the list of Python Environments."
     ]
    }
   ],
   "source": [
    "# 명사 추출 함수\n",
    "def noun_extractor(text):\n",
    "    results = []\n",
    "    result = kiwi.analyze(text)\n",
    "    # print(result)\n",
    "    for token, pos, _, _ in result[0][0]:\n",
    "        if len(token) != 1 and pos.startswith('N') or pos.startswith('SL'):\n",
    "            results.append(token)\n",
    "    return results"
   ]
  },
  {
   "cell_type": "markdown",
   "metadata": {},
   "source": [
    "### 불용어 제거"
   ]
  },
  {
   "cell_type": "code",
   "execution_count": null,
   "metadata": {},
   "outputs": [
    {
     "ename": "",
     "evalue": "",
     "output_type": "error",
     "traceback": [
      "\u001b[1;31mThe kernel failed to start as the Python Environment 'biscuit-model' is no longer available. Consider selecting another kernel or refreshing the list of Python Environments."
     ]
    }
   ],
   "source": [
    "stopwords = [\n",
    "    # channel\n",
    "    \"11번가\",\n",
    "    \"11st-tech\",\n",
    "    \"29CM\",\n",
    "    \"29cm\",\n",
    "    \"AWS\",\n",
    "    \"amazon\",\n",
    "    \"class101\",\n",
    "    \"GS리테일\",\n",
    "    \"gsretail\",\n",
    "    \"NHN\",\n",
    "    \"nhncloud\",\n",
    "    \"ToastUI\",\n",
    "    \"네이버D2\",\n",
    "    \"d2\",\n",
    "    \"naver\",\n",
    "    \"네이버클라우드\",\n",
    "    \"naver-cloud-platform\",\n",
    "    \"네이버플레이스\",\n",
    "    \"naver-place-dev\",\n",
    "    \"넷마블\",\n",
    "    \"netmarble\",\n",
    "    \"다나와\",\n",
    "    \"danawalab\",\n",
    "    \"당근마켓\",\n",
    "    \"daangn\",\n",
    "    \"데보션\",\n",
    "    \"devocean\",\n",
    "    \"sk\",\n",
    "    \"데브시스터즈\",\n",
    "    \"devsisters\",\n",
    "    \"드라마앤컴퍼니\",\n",
    "    \"dramancompany\",\n",
    "    \"라인\",\n",
    "    \"linecorp\",\n",
    "    \"레모네이드\",\n",
    "    \"lemonade-engineering\",\n",
    "    \"롯데on\",\n",
    "    \"lotteon\",\n",
    "    \"루닛\",\n",
    "    \"lunit\",\n",
    "    \"마이리얼트립\",\n",
    "    \"myrealtrip-product\",\n",
    "    \"메가존클라우드\",\n",
    "    \"ctc-mzc\",\n",
    "    \"무신사\",\n",
    "    \"musinsa\",\n",
    "    \"버즈빌\",\n",
    "    \"buzzvil\",\n",
    "    \"브랜디\",\n",
    "    \"brandi\",\n",
    "    \"사람인\",\n",
    "    \"saramin\",\n",
    "    \"숨고\",\n",
    "    \"soomgo\",\n",
    "    \"스마일게이트AI\",\n",
    "    \"smilegate\",\n",
    "    \"스케터랩\",\n",
    "    \"scatterlab\",\n",
    "    \"스타일쉐어\",\n",
    "    \"styleshare\",\n",
    "    \"쏘카\",\n",
    "    \"socarcorp\",\n",
    "    \"아이디어스\",\n",
    "    \"idus\",\n",
    "    \"야놀자\",\n",
    "    \"yanolja\",\n",
    "    \"야놀자클라우드\",\n",
    "    \"yanoljacloud-tech\",\n",
    "    \"엔라이즈\",\n",
    "    \"nrise\",\n",
    "    \"여기어때\",\n",
    "    \"gccompany\",\n",
    "    \"오일나우\",\n",
    "    \"왓챠\",\n",
    "    \"watcha\",\n",
    "    \"요기요\",\n",
    "    \"yogiyo\",\n",
    "    \"우아한형제들\",\n",
    "    \"woowahan\",\n",
    "    \"원티드\",\n",
    "    \"wantedjobs\",\n",
    "    \"지마켓\",\n",
    "    \"gmarket\",\n",
    "    \"직방\",\n",
    "    \"zigbang\",\n",
    "    \"카카오\",\n",
    "    \"kakao\",\n",
    "    \"카카오엔터프라이즈\",\n",
    "    \"kakaoenterprise\",\n",
    "    \"카카오페이\",\n",
    "    \"kakaopay\",\n",
    "    \"컬리\",\n",
    "    \"kurly\",\n",
    "    \"코인원\",\n",
    "    \"coinone\",\n",
    "    \"쿠팡\",\n",
    "    \"coupang-engineering\",\n",
    "    \"크몽\",\n",
    "    \"kmong\",\n",
    "    \"클라우드메이트\",\n",
    "    \"cloudmt\",\n",
    "    \"테이블링\",\n",
    "    \"tabling\",\n",
    "    \"토스\",\n",
    "    \"toss\",\n",
    "    \"포스타입\",\n",
    "    \"postype\",\n",
    "    \"하이퍼커넥트\",\n",
    "    \"hyperconnect\",\n",
    "    \"헤이딜러\",\n",
    "    \"prnd\",\n",
    "    \"화해\",\n",
    "    \"hwahae\",\n",
    "]"
   ]
  },
  {
   "cell_type": "code",
   "execution_count": null,
   "metadata": {},
   "outputs": [
    {
     "ename": "",
     "evalue": "",
     "output_type": "error",
     "traceback": [
      "\u001b[1;31mThe kernel failed to start as the Python Environment 'biscuit-model' is no longer available. Consider selecting another kernel or refreshing the list of Python Environments."
     ]
    }
   ],
   "source": [
    "from crawling import config\n",
    "#  from src.crawling.config import connect, close\n",
    "\n",
    "conn = config.connect()\n",
    "curs = conn.cursor()\n",
    "\n",
    "channel_sql = \"\"\"select name from channel group by name\"\"\"\n",
    "curs.execute(channel_sql)\n",
    "channel_info = curs.fetchall()\n",
    "\n",
    "channels = []\n",
    "for channel in channel_info:\n",
    "    channels.extend(channel)\n",
    "print(channels)\n",
    "\n",
    "config.close()\n",
    "\n",
    "stopwords.extend(channels)"
   ]
  },
  {
   "cell_type": "markdown",
   "metadata": {
    "id": "pLHwJBTIyx9_"
   },
   "source": [
    "## keyword 추출"
   ]
  },
  {
   "cell_type": "code",
   "execution_count": null,
   "metadata": {
    "id": "t-uzs8GQyslO"
   },
   "outputs": [
    {
     "ename": "",
     "evalue": "",
     "output_type": "error",
     "traceback": [
      "\u001b[1;31mThe kernel failed to start as the Python Environment 'biscuit-model' is no longer available. Consider selecting another kernel or refreshing the list of Python Environments."
     ]
    }
   ],
   "source": [
    "def keyword_extractor(bert:str, documents:List[str]) -> (List[Tuple[str, float]] | List[List[Tuple[str, float]]]):\n",
    "  model = BertModel.from_pretrained(bert)\n",
    "  model = model.cuda()\n",
    "  kw_model = KeyBERT(model)\n",
    "  keywords = kw_model.extract_keywords(documents, keyphrase_ngram_range=(1, 1), stop_words=None, top_n=20)\n",
    "  return keywords\n",
    "# model_100langs = BertModel.from_pretrained('sentence-transformers/xlm-r-100langs-bert-base-nli-stsb-mean-tokens')\n",
    "# kw_model_100langs = KeyBERT(model_100langs)\n",
    "# keywords_100langs = kw_model_100langs.extract_keywords(text, keyphrase_ngram_range=(1, 1), stop_words=None, top_n=20)\n"
   ]
  },
  {
   "cell_type": "code",
   "execution_count": null,
   "metadata": {},
   "outputs": [
    {
     "ename": "",
     "evalue": "",
     "output_type": "error",
     "traceback": [
      "\u001b[1;31mThe kernel failed to start as the Python Environment 'biscuit-model' is no longer available. Consider selecting another kernel or refreshing the list of Python Environments."
     ]
    }
   ],
   "source": [
    "# gpu 사용법\n",
    "# https://github.com/MaartenGr/KeyBERT/issues/108\n",
    "# model = SentenceTransformer(\n",
    "#     \"<hf_model_name>\",\n",
    "#     device=\"cuda:0\"\n",
    "# )\n",
    "model = BertModel.from_pretrained('skt/kobert-base-v1')\n",
    "model = model.cuda()\n",
    "print(\"DEVICE\", model.device)\n",
    "# hf_model = KeyBERT(model)\n",
    "\n",
    "# https://www.kaggle.com/code/accountstatus/shopee-competition-using-bert-model\n"
   ]
  },
  {
   "cell_type": "code",
   "execution_count": null,
   "metadata": {
    "id": "CXJC5qTf6j3n"
   },
   "outputs": [
    {
     "ename": "",
     "evalue": "",
     "output_type": "error",
     "traceback": [
      "\u001b[1;31mThe kernel failed to start as the Python Environment 'biscuit-model' is no longer available. Consider selecting another kernel or refreshing the list of Python Environments."
     ]
    }
   ],
   "source": [
    "# print(os.getcwd())\n",
    "# base_path = \"/content/drive/MyDrive/쳇, 6pt: 비스킷(biskuit)/dataset/content/\"\n",
    "base_path = '../../../data/content/'"
   ]
  },
  {
   "cell_type": "code",
   "execution_count": null,
   "metadata": {
    "id": "64ezQHBbiJ9K"
   },
   "outputs": [
    {
     "ename": "",
     "evalue": "",
     "output_type": "error",
     "traceback": [
      "\u001b[1;31mThe kernel failed to start as the Python Environment 'biscuit-model' is no longer available. Consider selecting another kernel or refreshing the list of Python Environments."
     ]
    }
   ],
   "source": [
    "def extract_keyword(base_path:str):\n",
    "  content_dir_list = os.scandir(base_path)\n",
    "  documents = []\n",
    "  for content_dir in content_dir_list:\n",
    "      if not content_dir.is_dir(): continue\n",
    "      content_list = os.scandir(content_dir)\n",
    "      for content in content_list:\n",
    "          if not content.is_file() or content.name == \"index.txt\": continue\n",
    "          file = open(content.path, \"r\")\n",
    "          if len(text.split('\\n')) > 50:\n",
    "            summary = summarize(text)\n",
    "          else:\n",
    "            summary = text\n",
    "          # nouns = noun_extractor(text)\n",
    "          nouns = noun_extractor(summary)\n",
    "          text = ' '.join(nouns)\n",
    "          documents.append(text)\n",
    "  # print(text)\n",
    "  keyword_extractor('skt/kobert-base-v1', documents)\n",
    "  # keyword_extractor('paraphrase-multilingual-MiniLM-L12-v2', documents)   # multilingual!\n",
    "  # keyword_extractor('paraphrase-multilingual-mpnet-base-v2', documents)   # 시간 더 오래걸리고 결과 더 조음!"
   ]
  },
  {
   "cell_type": "code",
   "execution_count": null,
   "metadata": {},
   "outputs": [
    {
     "ename": "",
     "evalue": "",
     "output_type": "error",
     "traceback": [
      "\u001b[1;31mThe kernel failed to start as the Python Environment 'biscuit-model' is no longer available. Consider selecting another kernel or refreshing the list of Python Environments."
     ]
    }
   ],
   "source": [
    "\n",
    "faster_keywords = extract_keyword(base_path)\n",
    "faster_counter = Counter(faster_keywords)\n",
    "print(faster_counter.most_common(100))"
   ]
  }
 ],
 "metadata": {
  "accelerator": "TPU",
  "colab": {
   "provenance": []
  },
  "gpuClass": "standard",
  "kernelspec": {
   "display_name": "Python 3 (ipykernel)",
   "language": "python",
   "name": "python3"
  },
  "language_info": {
   "codemirror_mode": {
    "name": "ipython",
    "version": 3
   },
   "file_extension": ".py",
   "mimetype": "text/x-python",
   "name": "python",
   "nbconvert_exporter": "python",
   "pygments_lexer": "ipython3",
   "version": "3.9.16"
  }
 },
 "nbformat": 4,
 "nbformat_minor": 1
}
